{
 "cells": [
  {
   "cell_type": "code",
   "execution_count": 1,
   "id": "ee5f6714",
   "metadata": {},
   "outputs": [
    {
     "name": "stdout",
     "output_type": "stream",
     "text": [
      "this is Spaaaarta\n"
     ]
    }
   ],
   "source": [
    "print(\"this is Spaaaarta\")"
   ]
  },
  {
   "cell_type": "code",
   "execution_count": 2,
   "id": "d7610799",
   "metadata": {},
   "outputs": [],
   "source": [
    "#data/value can be stored in temporary storage space called Variables"
   ]
  },
  {
   "cell_type": "code",
   "execution_count": 3,
   "id": "2f0a91ad",
   "metadata": {},
   "outputs": [],
   "source": [
    "student=\"sam\""
   ]
  },
  {
   "cell_type": "code",
   "execution_count": 4,
   "id": "9187cee8",
   "metadata": {},
   "outputs": [
    {
     "data": {
      "text/plain": [
       "'sam'"
      ]
     },
     "execution_count": 4,
     "metadata": {},
     "output_type": "execute_result"
    }
   ],
   "source": [
    "student"
   ]
  },
  {
   "cell_type": "code",
   "execution_count": 5,
   "id": "d96dbc78",
   "metadata": {},
   "outputs": [],
   "source": [
    "#data type -> integer ->2,3   \n",
    "#float ->3.14,20.25     \n",
    "#boolean-> true, false       \n",
    "#string -> 'sam','matt' \n",
    "#complex -> 3+2j (i represent as j)"
   ]
  },
  {
   "cell_type": "code",
   "execution_count": 6,
   "id": "39aa8e35",
   "metadata": {},
   "outputs": [
    {
     "data": {
      "text/plain": [
       "10"
      ]
     },
     "execution_count": 6,
     "metadata": {},
     "output_type": "execute_result"
    }
   ],
   "source": [
    "a1=10\n",
    "a1"
   ]
  },
  {
   "cell_type": "code",
   "execution_count": 7,
   "id": "7f4af804",
   "metadata": {},
   "outputs": [
    {
     "data": {
      "text/plain": [
       "int"
      ]
     },
     "execution_count": 7,
     "metadata": {},
     "output_type": "execute_result"
    }
   ],
   "source": [
    "type(a1)"
   ]
  },
  {
   "cell_type": "code",
   "execution_count": 8,
   "id": "bb2e70f0",
   "metadata": {},
   "outputs": [
    {
     "data": {
      "text/plain": [
       "2.256"
      ]
     },
     "execution_count": 8,
     "metadata": {},
     "output_type": "execute_result"
    }
   ],
   "source": [
    "a1=2.256\n",
    "a1"
   ]
  },
  {
   "cell_type": "code",
   "execution_count": 9,
   "id": "b3d0cc59",
   "metadata": {},
   "outputs": [
    {
     "data": {
      "text/plain": [
       "float"
      ]
     },
     "execution_count": 9,
     "metadata": {},
     "output_type": "execute_result"
    }
   ],
   "source": [
    "type(a1)"
   ]
  },
  {
   "cell_type": "code",
   "execution_count": 11,
   "id": "783cc7b0",
   "metadata": {},
   "outputs": [
    {
     "data": {
      "text/plain": [
       "True"
      ]
     },
     "execution_count": 11,
     "metadata": {},
     "output_type": "execute_result"
    }
   ],
   "source": [
    "a1= True\n",
    "\n",
    "a1"
   ]
  },
  {
   "cell_type": "code",
   "execution_count": 12,
   "id": "461d42f0",
   "metadata": {},
   "outputs": [
    {
     "data": {
      "text/plain": [
       "bool"
      ]
     },
     "execution_count": 12,
     "metadata": {},
     "output_type": "execute_result"
    }
   ],
   "source": [
    "type(a1)"
   ]
  },
  {
   "cell_type": "code",
   "execution_count": 13,
   "id": "5ae0ea2f",
   "metadata": {},
   "outputs": [
    {
     "data": {
      "text/plain": [
       "str"
      ]
     },
     "execution_count": 13,
     "metadata": {},
     "output_type": "execute_result"
    }
   ],
   "source": [
    "a1='sam'\n",
    "type(a1)"
   ]
  },
  {
   "cell_type": "code",
   "execution_count": 14,
   "id": "2e56d084",
   "metadata": {},
   "outputs": [
    {
     "data": {
      "text/plain": [
       "complex"
      ]
     },
     "execution_count": 14,
     "metadata": {},
     "output_type": "execute_result"
    }
   ],
   "source": [
    "a1=3+4j\n",
    "type(a1)"
   ]
  },
  {
   "cell_type": "code",
   "execution_count": 15,
   "id": "d0c716fa",
   "metadata": {},
   "outputs": [],
   "source": [
    "# Operator \n",
    "#Airthmatic Operator -> add +, sub -,mul *,div /,\n",
    "#Relational operator -> less than<,greater than>,==,!=(not equal to)\n",
    "#Logical Operator -> &(and) |(or)"
   ]
  },
  {
   "cell_type": "code",
   "execution_count": 16,
   "id": "8e74037d",
   "metadata": {},
   "outputs": [
    {
     "data": {
      "text/plain": [
       "True"
      ]
     },
     "execution_count": 16,
     "metadata": {},
     "output_type": "execute_result"
    }
   ],
   "source": [
    "a=True\n",
    "b=False\n",
    "a|b\n"
   ]
  },
  {
   "cell_type": "code",
   "execution_count": 19,
   "id": "5267b55f",
   "metadata": {},
   "outputs": [],
   "source": [
    "#Python Token -> Smallest meaningful components in python ex.- keywords,identifiers,literals,operators\n",
    "#keywords-> they are special reserved words\n",
    "#identifier-> are names used for variables,function or Objects (not start with _),(case sensitive),(first letter not be digit)\n",
    "#literals-> constants in python \n",
    "#Strings-> are sequence of Characters Enclosed with \"\",'',\"''\" ex-'hello',\"spaarta\",\"'show me book'\" \\n means New line\n",
    "#index value Start with 0 and from left"
   ]
  },
  {
   "cell_type": "raw",
   "id": "a2d6aa46",
   "metadata": {},
   "source": []
  },
  {
   "cell_type": "code",
   "execution_count": 22,
   "id": "44da751d",
   "metadata": {},
   "outputs": [],
   "source": [
    "my_string=\"this is spaarta\""
   ]
  },
  {
   "cell_type": "code",
   "execution_count": 23,
   "id": "916c076e",
   "metadata": {},
   "outputs": [
    {
     "data": {
      "text/plain": [
       "'this is spaarta'"
      ]
     },
     "execution_count": 23,
     "metadata": {},
     "output_type": "execute_result"
    }
   ],
   "source": [
    "my_string"
   ]
  },
  {
   "cell_type": "code",
   "execution_count": 24,
   "id": "37811e35",
   "metadata": {},
   "outputs": [
    {
     "data": {
      "text/plain": [
       "'t'"
      ]
     },
     "execution_count": 24,
     "metadata": {},
     "output_type": "execute_result"
    }
   ],
   "source": [
    "my_string[0]"
   ]
  },
  {
   "cell_type": "code",
   "execution_count": 25,
   "id": "4456018a",
   "metadata": {},
   "outputs": [
    {
     "data": {
      "text/plain": [
       "'t'"
      ]
     },
     "execution_count": 25,
     "metadata": {},
     "output_type": "execute_result"
    }
   ],
   "source": [
    "my_string[-2]"
   ]
  },
  {
   "cell_type": "code",
   "execution_count": 35,
   "id": "b0ae7b31",
   "metadata": {},
   "outputs": [
    {
     "data": {
      "text/plain": [
       "'this is spaarta'"
      ]
     },
     "execution_count": 35,
     "metadata": {},
     "output_type": "execute_result"
    }
   ],
   "source": [
    "my_string[0:16]"
   ]
  },
  {
   "cell_type": "code",
   "execution_count": 31,
   "id": "0cb800b9",
   "metadata": {},
   "outputs": [],
   "source": [
    "# For finding length of string we use len(my_string)\n",
    "#converting string to lower case we use my_string.lower()\n",
    "#converting string to upper case we use my_string.upper()"
   ]
  },
  {
   "cell_type": "code",
   "execution_count": 32,
   "id": "0273e2a1",
   "metadata": {},
   "outputs": [
    {
     "data": {
      "text/plain": [
       "15"
      ]
     },
     "execution_count": 32,
     "metadata": {},
     "output_type": "execute_result"
    }
   ],
   "source": [
    "len(my_string)"
   ]
  },
  {
   "cell_type": "code",
   "execution_count": 33,
   "id": "51da4694",
   "metadata": {},
   "outputs": [
    {
     "data": {
      "text/plain": [
       "'this is spaarta'"
      ]
     },
     "execution_count": 33,
     "metadata": {},
     "output_type": "execute_result"
    }
   ],
   "source": [
    "my_string.lower()"
   ]
  },
  {
   "cell_type": "code",
   "execution_count": 34,
   "id": "1ee6ea4c",
   "metadata": {},
   "outputs": [
    {
     "data": {
      "text/plain": [
       "'THIS IS SPAARTA'"
      ]
     },
     "execution_count": 34,
     "metadata": {},
     "output_type": "execute_result"
    }
   ],
   "source": [
    "my_string.upper()"
   ]
  },
  {
   "cell_type": "code",
   "execution_count": 36,
   "id": "9cf25f5f",
   "metadata": {},
   "outputs": [],
   "source": [
    "#replacing a substring -> my_string.replace('s','er')\n",
    "#number of Occurrences of Substring -> my_string.count('s')"
   ]
  },
  {
   "cell_type": "code",
   "execution_count": 40,
   "id": "9ca9f7ba",
   "metadata": {},
   "outputs": [
    {
     "data": {
      "text/plain": [
       "'thare are spaarta'"
      ]
     },
     "execution_count": 40,
     "metadata": {},
     "output_type": "execute_result"
    }
   ],
   "source": [
    "my_string.replace('is','are')"
   ]
  },
  {
   "cell_type": "code",
   "execution_count": 41,
   "id": "19d25b7b",
   "metadata": {},
   "outputs": [
    {
     "data": {
      "text/plain": [
       "1"
      ]
     },
     "execution_count": 41,
     "metadata": {},
     "output_type": "execute_result"
    }
   ],
   "source": [
    "my_string.count('r')"
   ]
  },
  {
   "cell_type": "code",
   "execution_count": 42,
   "id": "3d9c4c1d",
   "metadata": {},
   "outputs": [],
   "source": [
    "#Finding index value of Substring -> .find('')\n",
    "#spliting a String -> .split(',')"
   ]
  },
  {
   "cell_type": "code",
   "execution_count": 49,
   "id": "5a06bea8",
   "metadata": {},
   "outputs": [
    {
     "data": {
      "text/plain": [
       "'this is sparmaaaa'"
      ]
     },
     "execution_count": 49,
     "metadata": {},
     "output_type": "execute_result"
    }
   ],
   "source": [
    "s1='this is sparmaaaa'\n",
    "s1"
   ]
  },
  {
   "cell_type": "code",
   "execution_count": 50,
   "id": "70f6c1bd",
   "metadata": {},
   "outputs": [
    {
     "data": {
      "text/plain": [
       "12"
      ]
     },
     "execution_count": 50,
     "metadata": {},
     "output_type": "execute_result"
    }
   ],
   "source": [
    "s1.find('m')"
   ]
  },
  {
   "cell_type": "code",
   "execution_count": 51,
   "id": "a0a05664",
   "metadata": {},
   "outputs": [
    {
     "data": {
      "text/plain": [
       "['thi', ' i', ' ', 'parmaaaa']"
      ]
     },
     "execution_count": 51,
     "metadata": {},
     "output_type": "execute_result"
    }
   ],
   "source": [
    "s1.split('s')"
   ]
  },
  {
   "cell_type": "markdown",
   "id": "d2acce3f",
   "metadata": {},
   "source": [
    "# Data Structure -> List,tuple,dict,set\n"
   ]
  },
  {
   "cell_type": "code",
   "execution_count": 52,
   "id": "94fd3fbc",
   "metadata": {},
   "outputs": [],
   "source": [
    "#tuple -> is an order collection of element enclosed within ()\n",
    "#tuples are Immutable,means we can not change in tuple\n",
    "#tup1=(1,'a',True)"
   ]
  },
  {
   "cell_type": "code",
   "execution_count": 55,
   "id": "bcc4b3fb",
   "metadata": {},
   "outputs": [],
   "source": [
    "tup1=(1,'hello',3.155,True,5-3j)"
   ]
  },
  {
   "cell_type": "code",
   "execution_count": 56,
   "id": "55909136",
   "metadata": {},
   "outputs": [
    {
     "data": {
      "text/plain": [
       "(1, 'hello', 3.155, True, (5-3j))"
      ]
     },
     "execution_count": 56,
     "metadata": {},
     "output_type": "execute_result"
    }
   ],
   "source": [
    "tup1"
   ]
  },
  {
   "cell_type": "code",
   "execution_count": 57,
   "id": "cadb5894",
   "metadata": {},
   "outputs": [
    {
     "data": {
      "text/plain": [
       "1"
      ]
     },
     "execution_count": 57,
     "metadata": {},
     "output_type": "execute_result"
    }
   ],
   "source": [
    "tup1[0]"
   ]
  },
  {
   "cell_type": "code",
   "execution_count": 58,
   "id": "e3a90600",
   "metadata": {},
   "outputs": [
    {
     "data": {
      "text/plain": [
       "True"
      ]
     },
     "execution_count": 58,
     "metadata": {},
     "output_type": "execute_result"
    }
   ],
   "source": [
    "tup1[-2]"
   ]
  },
  {
   "cell_type": "code",
   "execution_count": 59,
   "id": "b40e8774",
   "metadata": {},
   "outputs": [
    {
     "data": {
      "text/plain": [
       "('hello', 3.155)"
      ]
     },
     "execution_count": 59,
     "metadata": {},
     "output_type": "execute_result"
    }
   ],
   "source": [
    "tup1[1:3]"
   ]
  },
  {
   "cell_type": "code",
   "execution_count": 60,
   "id": "c44da650",
   "metadata": {},
   "outputs": [
    {
     "ename": "TypeError",
     "evalue": "'tuple' object does not support item assignment",
     "output_type": "error",
     "traceback": [
      "\u001b[1;31m---------------------------------------------------------------------------\u001b[0m",
      "\u001b[1;31mTypeError\u001b[0m                                 Traceback (most recent call last)",
      "\u001b[1;32m<ipython-input-60-bffc154632d7>\u001b[0m in \u001b[0;36m<module>\u001b[1;34m\u001b[0m\n\u001b[1;32m----> 1\u001b[1;33m \u001b[0mtup1\u001b[0m\u001b[1;33m[\u001b[0m\u001b[1;36m3\u001b[0m\u001b[1;33m]\u001b[0m\u001b[1;33m=\u001b[0m\u001b[1;34m'sparta'\u001b[0m\u001b[1;33m\u001b[0m\u001b[1;33m\u001b[0m\u001b[0m\n\u001b[0m",
      "\u001b[1;31mTypeError\u001b[0m: 'tuple' object does not support item assignment"
     ]
    }
   ],
   "source": [
    "tup1[3]='sparta'"
   ]
  },
  {
   "cell_type": "code",
   "execution_count": 61,
   "id": "9bba08ae",
   "metadata": {},
   "outputs": [
    {
     "data": {
      "text/plain": [
       "5"
      ]
     },
     "execution_count": 61,
     "metadata": {},
     "output_type": "execute_result"
    }
   ],
   "source": [
    "len(tup1)"
   ]
  },
  {
   "cell_type": "code",
   "execution_count": 62,
   "id": "67903efa",
   "metadata": {},
   "outputs": [
    {
     "data": {
      "text/plain": [
       "(1, 'hello', 3.155, True, (5-3j), 1, 2, 3)"
      ]
     },
     "execution_count": 62,
     "metadata": {},
     "output_type": "execute_result"
    }
   ],
   "source": [
    "tup2=(1,2,3)\n",
    "tup3=(4,5,6)\n",
    "tup1+tup2"
   ]
  },
  {
   "cell_type": "code",
   "execution_count": 63,
   "id": "319fb2df",
   "metadata": {},
   "outputs": [
    {
     "data": {
      "text/plain": [
       "(1, 2, 3, 4, 5, 6)"
      ]
     },
     "execution_count": 63,
     "metadata": {},
     "output_type": "execute_result"
    }
   ],
   "source": [
    "tup2+tup3"
   ]
  },
  {
   "cell_type": "code",
   "execution_count": 67,
   "id": "f3a5da65",
   "metadata": {},
   "outputs": [
    {
     "data": {
      "text/plain": [
       "(4, 5, 6, 1, 'hello', 3.155, True, (5-3j))"
      ]
     },
     "execution_count": 67,
     "metadata": {},
     "output_type": "execute_result"
    }
   ],
   "source": [
    "tup3+tup1"
   ]
  },
  {
   "cell_type": "code",
   "execution_count": 68,
   "id": "9663e3c6",
   "metadata": {},
   "outputs": [
    {
     "data": {
      "text/plain": [
       "((1, 2, 3), (4, 5, 6))"
      ]
     },
     "execution_count": 68,
     "metadata": {},
     "output_type": "execute_result"
    }
   ],
   "source": [
    "tup2,tup3"
   ]
  },
  {
   "cell_type": "code",
   "execution_count": 69,
   "id": "937b176c",
   "metadata": {},
   "outputs": [
    {
     "data": {
      "text/plain": [
       "((4, 5, 6), (1, 2, 3))"
      ]
     },
     "execution_count": 69,
     "metadata": {},
     "output_type": "execute_result"
    }
   ],
   "source": [
    "tup3,tup2"
   ]
  },
  {
   "cell_type": "code",
   "execution_count": 70,
   "id": "50af625e",
   "metadata": {},
   "outputs": [
    {
     "data": {
      "text/plain": [
       "(1, 2, 3, 1, 2, 3, 1, 2, 3, 1, 2, 3, 1, 2, 3)"
      ]
     },
     "execution_count": 70,
     "metadata": {},
     "output_type": "execute_result"
    }
   ],
   "source": [
    "tup2*5"
   ]
  },
  {
   "cell_type": "code",
   "execution_count": 71,
   "id": "c2e13d07",
   "metadata": {},
   "outputs": [
    {
     "data": {
      "text/plain": [
       "(1, 2, 3, 1, 2, 3, 4, 5, 6, 1, 'hello', 3.155, True, (5-3j))"
      ]
     },
     "execution_count": 71,
     "metadata": {},
     "output_type": "execute_result"
    }
   ],
   "source": [
    "tup2*2+tup3+tup1"
   ]
  },
  {
   "cell_type": "code",
   "execution_count": 74,
   "id": "cb279f4e",
   "metadata": {},
   "outputs": [
    {
     "data": {
      "text/plain": [
       "1"
      ]
     },
     "execution_count": 74,
     "metadata": {},
     "output_type": "execute_result"
    }
   ],
   "source": [
    "min(tup2)"
   ]
  },
  {
   "cell_type": "code",
   "execution_count": 75,
   "id": "a13eb408",
   "metadata": {},
   "outputs": [
    {
     "data": {
      "text/plain": [
       "6"
      ]
     },
     "execution_count": 75,
     "metadata": {},
     "output_type": "execute_result"
    }
   ],
   "source": [
    "max(tup3)"
   ]
  },
  {
   "cell_type": "code",
   "execution_count": 15,
   "id": "dda4154d",
   "metadata": {},
   "outputs": [],
   "source": [
    "#list-> list is an order collection of elements enclosed within[]\n",
    "#list are mutable that is we cam do changes in that \n",
    "#l1=[1,'a',True]"
   ]
  },
  {
   "cell_type": "code",
   "execution_count": 1,
   "id": "5f199393",
   "metadata": {},
   "outputs": [],
   "source": [
    "l1=[1,'sparta',3.14,True]"
   ]
  },
  {
   "cell_type": "code",
   "execution_count": 2,
   "id": "c20cb291",
   "metadata": {},
   "outputs": [
    {
     "data": {
      "text/plain": [
       "list"
      ]
     },
     "execution_count": 2,
     "metadata": {},
     "output_type": "execute_result"
    }
   ],
   "source": [
    "type(l1)"
   ]
  },
  {
   "cell_type": "code",
   "execution_count": 3,
   "id": "1183cae8",
   "metadata": {},
   "outputs": [
    {
     "data": {
      "text/plain": [
       "'sparta'"
      ]
     },
     "execution_count": 3,
     "metadata": {},
     "output_type": "execute_result"
    }
   ],
   "source": [
    "l1[1]"
   ]
  },
  {
   "cell_type": "code",
   "execution_count": 4,
   "id": "1c7be2fa",
   "metadata": {},
   "outputs": [
    {
     "data": {
      "text/plain": [
       "['sparta', 3.14]"
      ]
     },
     "execution_count": 4,
     "metadata": {},
     "output_type": "execute_result"
    }
   ],
   "source": [
    "l1[1:3]"
   ]
  },
  {
   "cell_type": "code",
   "execution_count": 5,
   "id": "ac53d647",
   "metadata": {},
   "outputs": [
    {
     "data": {
      "text/plain": [
       "['sparta', 3.14, True]"
      ]
     },
     "execution_count": 5,
     "metadata": {},
     "output_type": "execute_result"
    }
   ],
   "source": [
    "l1[1:4]"
   ]
  },
  {
   "cell_type": "code",
   "execution_count": 7,
   "id": "80b5359e",
   "metadata": {},
   "outputs": [
    {
     "data": {
      "text/plain": [
       "[True]"
      ]
     },
     "execution_count": 7,
     "metadata": {},
     "output_type": "execute_result"
    }
   ],
   "source": [
    "l1[-1:4]"
   ]
  },
  {
   "cell_type": "code",
   "execution_count": 8,
   "id": "4b78a592",
   "metadata": {},
   "outputs": [],
   "source": [
    "l1[0]=152"
   ]
  },
  {
   "cell_type": "code",
   "execution_count": 9,
   "id": "d4de7a1f",
   "metadata": {},
   "outputs": [
    {
     "data": {
      "text/plain": [
       "[152, 'sparta', 3.14, True]"
      ]
     },
     "execution_count": 9,
     "metadata": {},
     "output_type": "execute_result"
    }
   ],
   "source": [
    "l1"
   ]
  },
  {
   "cell_type": "code",
   "execution_count": 10,
   "id": "76ea8fd1",
   "metadata": {},
   "outputs": [],
   "source": [
    "#for adding new element at last we use .append\n",
    "#and for removing last element we use .pop()"
   ]
  },
  {
   "cell_type": "code",
   "execution_count": 11,
   "id": "f2d2d41b",
   "metadata": {},
   "outputs": [],
   "source": [
    "l1.append('mango')"
   ]
  },
  {
   "cell_type": "code",
   "execution_count": 12,
   "id": "557ffcbf",
   "metadata": {},
   "outputs": [
    {
     "data": {
      "text/plain": [
       "[152, 'sparta', 3.14, True, 'mango']"
      ]
     },
     "execution_count": 12,
     "metadata": {},
     "output_type": "execute_result"
    }
   ],
   "source": [
    "l1"
   ]
  },
  {
   "cell_type": "code",
   "execution_count": 13,
   "id": "11f346ed",
   "metadata": {},
   "outputs": [
    {
     "data": {
      "text/plain": [
       "'mango'"
      ]
     },
     "execution_count": 13,
     "metadata": {},
     "output_type": "execute_result"
    }
   ],
   "source": [
    "l1.pop()"
   ]
  },
  {
   "cell_type": "code",
   "execution_count": 14,
   "id": "75ac3df6",
   "metadata": {},
   "outputs": [
    {
     "data": {
      "text/plain": [
       "[152, 'sparta', 3.14, True]"
      ]
     },
     "execution_count": 14,
     "metadata": {},
     "output_type": "execute_result"
    }
   ],
   "source": [
    "l1"
   ]
  },
  {
   "cell_type": "code",
   "execution_count": 16,
   "id": "598aebd8",
   "metadata": {},
   "outputs": [],
   "source": [
    "# reversing element in list we use .reverse()\n",
    "#for sorting a list we use .sort()\n",
    "#for inserting an element we use .insert(index value,inserting parameter)"
   ]
  },
  {
   "cell_type": "code",
   "execution_count": 17,
   "id": "8392b867",
   "metadata": {},
   "outputs": [],
   "source": [
    "l1.reverse()"
   ]
  },
  {
   "cell_type": "code",
   "execution_count": 18,
   "id": "5d727052",
   "metadata": {},
   "outputs": [
    {
     "data": {
      "text/plain": [
       "[True, 3.14, 'sparta', 152]"
      ]
     },
     "execution_count": 18,
     "metadata": {},
     "output_type": "execute_result"
    }
   ],
   "source": [
    "l1"
   ]
  },
  {
   "cell_type": "code",
   "execution_count": 20,
   "id": "361dd72d",
   "metadata": {},
   "outputs": [
    {
     "data": {
      "text/plain": [
       "['sparta', 'china', 'mango', 'usa', 'india']"
      ]
     },
     "execution_count": 20,
     "metadata": {},
     "output_type": "execute_result"
    }
   ],
   "source": [
    "l2=['sparta','china','mango','usa','india']\n",
    "l2"
   ]
  },
  {
   "cell_type": "code",
   "execution_count": 21,
   "id": "acf6ba7e",
   "metadata": {},
   "outputs": [
    {
     "data": {
      "text/plain": [
       "['china', 'india', 'mango', 'sparta', 'usa']"
      ]
     },
     "execution_count": 21,
     "metadata": {},
     "output_type": "execute_result"
    }
   ],
   "source": [
    "l2.sort()\n",
    "l2"
   ]
  },
  {
   "cell_type": "code",
   "execution_count": 22,
   "id": "655dee25",
   "metadata": {},
   "outputs": [
    {
     "data": {
      "text/plain": [
       "['china', 'india', 'mango', 'hello', 'sparta', 'usa']"
      ]
     },
     "execution_count": 22,
     "metadata": {},
     "output_type": "execute_result"
    }
   ],
   "source": [
    "l2.insert(3,'hello')\n",
    "l2"
   ]
  },
  {
   "cell_type": "code",
   "execution_count": 23,
   "id": "f8f710e1",
   "metadata": {},
   "outputs": [
    {
     "data": {
      "text/plain": [
       "[True,\n",
       " 3.14,\n",
       " 'sparta',\n",
       " 152,\n",
       " 'china',\n",
       " 'india',\n",
       " 'mango',\n",
       " 'hello',\n",
       " 'sparta',\n",
       " 'usa']"
      ]
     },
     "execution_count": 23,
     "metadata": {},
     "output_type": "execute_result"
    }
   ],
   "source": [
    "l1+l2 #adding two list"
   ]
  },
  {
   "cell_type": "code",
   "execution_count": 24,
   "id": "6185d50f",
   "metadata": {},
   "outputs": [
    {
     "data": {
      "text/plain": [
       "[True, 3.14, 'sparta', 152, True, 3.14, 'sparta', 152]"
      ]
     },
     "execution_count": 24,
     "metadata": {},
     "output_type": "execute_result"
    }
   ],
   "source": [
    "l1*2 #repeating element"
   ]
  },
  {
   "cell_type": "code",
   "execution_count": 26,
   "id": "f591e7fc",
   "metadata": {},
   "outputs": [],
   "source": [
    "#Dictionary \n",
    "#Dictionary is an unordered collection of key-value pairs enclosed with{}\n",
    "#dictionary is mutable difference is key and value pair are present in dictionary\n",
    "# f={'apple':10,'orange':20}"
   ]
  },
  {
   "cell_type": "code",
   "execution_count": 27,
   "id": "5da670ba",
   "metadata": {},
   "outputs": [
    {
     "data": {
      "text/plain": [
       "{'mango': 10, 'apple': 50, 'gua': 20}"
      ]
     },
     "execution_count": 27,
     "metadata": {},
     "output_type": "execute_result"
    }
   ],
   "source": [
    "d1={'mango':10,'apple':50,'gua':20}\n",
    "d1"
   ]
  },
  {
   "cell_type": "code",
   "execution_count": 28,
   "id": "29168d10",
   "metadata": {},
   "outputs": [
    {
     "data": {
      "text/plain": [
       "dict"
      ]
     },
     "execution_count": 28,
     "metadata": {},
     "output_type": "execute_result"
    }
   ],
   "source": [
    "type(d1)"
   ]
  },
  {
   "cell_type": "code",
   "execution_count": 30,
   "id": "cd2afedc",
   "metadata": {},
   "outputs": [
    {
     "data": {
      "text/plain": [
       "dict_keys(['mango', 'apple', 'gua'])"
      ]
     },
     "execution_count": 30,
     "metadata": {},
     "output_type": "execute_result"
    }
   ],
   "source": [
    "#extracting of key\n",
    "d1.keys()"
   ]
  },
  {
   "cell_type": "code",
   "execution_count": 32,
   "id": "e7b76df5",
   "metadata": {},
   "outputs": [
    {
     "data": {
      "text/plain": [
       "dict_values([10, 50, 20])"
      ]
     },
     "execution_count": 32,
     "metadata": {},
     "output_type": "execute_result"
    }
   ],
   "source": [
    "#extracting value\n",
    "d1.values()"
   ]
  },
  {
   "cell_type": "code",
   "execution_count": 33,
   "id": "0f81c38b",
   "metadata": {},
   "outputs": [
    {
     "data": {
      "text/plain": [
       "{'mango': 10, 'apple': 50, 'gua': 20, 'pinaapple': 500}"
      ]
     },
     "execution_count": 33,
     "metadata": {},
     "output_type": "execute_result"
    }
   ],
   "source": [
    "# adding new element\n",
    "d1['pinaapple']=500\n",
    "d1"
   ]
  },
  {
   "cell_type": "code",
   "execution_count": 34,
   "id": "d791fade",
   "metadata": {},
   "outputs": [
    {
     "data": {
      "text/plain": [
       "{'mango': 10, 'apple': 100, 'gua': 20, 'pinaapple': 500}"
      ]
     },
     "execution_count": 34,
     "metadata": {},
     "output_type": "execute_result"
    }
   ],
   "source": [
    "#changing an existing value\n",
    "d1['apple']=100\n",
    "d1"
   ]
  },
  {
   "cell_type": "code",
   "execution_count": 35,
   "id": "a9231ff4",
   "metadata": {},
   "outputs": [
    {
     "data": {
      "text/plain": [
       "{'mango': 10,\n",
       " 'apple': 100,\n",
       " 'gua': 20,\n",
       " 'pinaapple': 500,\n",
       " 'ram': 600,\n",
       " 'sham': 550}"
      ]
     },
     "execution_count": 35,
     "metadata": {},
     "output_type": "execute_result"
    }
   ],
   "source": [
    "#update one dictionary's element with another \n",
    "#for this fruit1={}\n",
    "#fruit2={}\n",
    "#fruit1.update(fruit2)\n",
    "#fruit1\n",
    "d2={'ram':600,'sham':550}\n",
    "d1.update(d2)\n",
    "d1\n"
   ]
  },
  {
   "cell_type": "code",
   "execution_count": 36,
   "id": "8e78d4dd",
   "metadata": {},
   "outputs": [
    {
     "data": {
      "text/plain": [
       "{'mango': 10, 'gua': 20, 'pinaapple': 500, 'ram': 600, 'sham': 550}"
      ]
     },
     "execution_count": 36,
     "metadata": {},
     "output_type": "execute_result"
    }
   ],
   "source": [
    "#poping of element\n",
    "#d1.pop('')\n",
    "#d1\n",
    "d1.pop('apple')\n",
    "d1"
   ]
  },
  {
   "cell_type": "code",
   "execution_count": 43,
   "id": "48304f26",
   "metadata": {},
   "outputs": [],
   "source": [
    "#set is an unorder and unidexed collection of element enclosed with{}\n",
    "#duplicates are not allowed in set\n",
    "#index is not present in set\n",
    "s1={1,'a',3.14}"
   ]
  },
  {
   "cell_type": "code",
   "execution_count": 44,
   "id": "e6e52995",
   "metadata": {},
   "outputs": [
    {
     "data": {
      "text/plain": [
       "{1, 3.14, 'a'}"
      ]
     },
     "execution_count": 44,
     "metadata": {},
     "output_type": "execute_result"
    }
   ],
   "source": [
    "s1"
   ]
  },
  {
   "cell_type": "code",
   "execution_count": 45,
   "id": "4d00ba83",
   "metadata": {},
   "outputs": [
    {
     "data": {
      "text/plain": [
       "set"
      ]
     },
     "execution_count": 45,
     "metadata": {},
     "output_type": "execute_result"
    }
   ],
   "source": [
    "type(s1)"
   ]
  },
  {
   "cell_type": "code",
   "execution_count": 46,
   "id": "5c76cd9f",
   "metadata": {},
   "outputs": [
    {
     "data": {
      "text/plain": [
       "{1, 3.14, 'a', 'hello'}"
      ]
     },
     "execution_count": 46,
     "metadata": {},
     "output_type": "execute_result"
    }
   ],
   "source": [
    "#Update one dictionary element with another\n",
    "s1.add('hello')\n",
    "s1"
   ]
  },
  {
   "cell_type": "code",
   "execution_count": 47,
   "id": "9eaef923",
   "metadata": {},
   "outputs": [
    {
     "data": {
      "text/plain": [
       "{1, 10, 20, 3.14, 30, 'a', 'hello'}"
      ]
     },
     "execution_count": 47,
     "metadata": {},
     "output_type": "execute_result"
    }
   ],
   "source": [
    "#updating Multiple Element\n",
    "s1.update([10,20,30])\n",
    "s1"
   ]
  },
  {
   "cell_type": "code",
   "execution_count": 48,
   "id": "0c326951",
   "metadata": {},
   "outputs": [
    {
     "data": {
      "text/plain": [
       "{1, 10, 3.14, 30, 'a', 'hello'}"
      ]
     },
     "execution_count": 48,
     "metadata": {},
     "output_type": "execute_result"
    }
   ],
   "source": [
    "#removing element\n",
    "s1.remove(20)\n",
    "s1"
   ]
  },
  {
   "cell_type": "code",
   "execution_count": 50,
   "id": "b8ecf06d",
   "metadata": {},
   "outputs": [
    {
     "data": {
      "text/plain": [
       "{1, 10, 3.14, 30, 5, 'a', 'dog', 'hello'}"
      ]
     },
     "execution_count": 50,
     "metadata": {},
     "output_type": "execute_result"
    }
   ],
   "source": [
    "#union of set\n",
    "s2={10,5,'dog'}\n",
    "s1.union(s2)"
   ]
  },
  {
   "cell_type": "code",
   "execution_count": 51,
   "id": "e61cd1de",
   "metadata": {},
   "outputs": [
    {
     "data": {
      "text/plain": [
       "{10}"
      ]
     },
     "execution_count": 51,
     "metadata": {},
     "output_type": "execute_result"
    }
   ],
   "source": [
    "#intersection of set\n",
    "s1.intersection(s2)"
   ]
  },
  {
   "cell_type": "markdown",
   "id": "fb279b22",
   "metadata": {},
   "source": [
    "# Decision making Statement"
   ]
  },
  {
   "cell_type": "code",
   "execution_count": 52,
   "id": "39ab7d1c",
   "metadata": {},
   "outputs": [],
   "source": [
    "# If-else Statement"
   ]
  },
  {
   "cell_type": "code",
   "execution_count": 53,
   "id": "c6cce05e",
   "metadata": {},
   "outputs": [],
   "source": [
    "# if(condition){\n",
    "#statement to be Execute\n",
    "#}\n",
    "  #else{\n",
    "#statement to be Execute\n",
    "#}"
   ]
  },
  {
   "cell_type": "code",
   "execution_count": 54,
   "id": "a12d5faf",
   "metadata": {},
   "outputs": [],
   "source": [
    "a=10\n",
    "b=20"
   ]
  },
  {
   "cell_type": "code",
   "execution_count": 55,
   "id": "f2aab1dd",
   "metadata": {},
   "outputs": [
    {
     "data": {
      "text/plain": [
       "(10, 20)"
      ]
     },
     "execution_count": 55,
     "metadata": {},
     "output_type": "execute_result"
    }
   ],
   "source": [
    "a,b"
   ]
  },
  {
   "cell_type": "code",
   "execution_count": 57,
   "id": "3f10f1b9",
   "metadata": {},
   "outputs": [
    {
     "name": "stdout",
     "output_type": "stream",
     "text": [
      "pagle row mat\n"
     ]
    }
   ],
   "source": [
    "if a>b:\n",
    "    print(\"b is more than a\")\n",
    "else:\n",
    "    print(\"pagle row mat\")"
   ]
  },
  {
   "cell_type": "code",
   "execution_count": 58,
   "id": "8fbaa2ee",
   "metadata": {},
   "outputs": [
    {
     "name": "stdout",
     "output_type": "stream",
     "text": [
      "b is more than a\n"
     ]
    }
   ],
   "source": [
    "if a<b:\n",
    "    print(\"b is more than a\")\n",
    "else:\n",
    "    print(\"pagle row mat\")"
   ]
  },
  {
   "cell_type": "code",
   "execution_count": 59,
   "id": "a5105afc",
   "metadata": {},
   "outputs": [],
   "source": [
    "a=10\n",
    "b=20\n",
    "c=30"
   ]
  },
  {
   "cell_type": "code",
   "execution_count": 60,
   "id": "95f3d36b",
   "metadata": {},
   "outputs": [
    {
     "name": "stdout",
     "output_type": "stream",
     "text": [
      "c is highest\n"
     ]
    }
   ],
   "source": [
    "if (a>b)&(a>c):\n",
    "    print('a is hoghest')\n",
    "elif (b>a)&(b>c):\n",
    "    print('b is highest')\n",
    "else:\n",
    "    print('c is highest')"
   ]
  },
  {
   "cell_type": "code",
   "execution_count": 61,
   "id": "a73805f4",
   "metadata": {},
   "outputs": [],
   "source": [
    "#if with Tuple"
   ]
  },
  {
   "cell_type": "code",
   "execution_count": 62,
   "id": "33504e2a",
   "metadata": {},
   "outputs": [],
   "source": [
    "tup1=('a','b','c')"
   ]
  },
  {
   "cell_type": "code",
   "execution_count": 65,
   "id": "6343a2c2",
   "metadata": {},
   "outputs": [
    {
     "name": "stdout",
     "output_type": "stream",
     "text": [
      "not present\n"
     ]
    }
   ],
   "source": [
    "if 'z'in tup1:\n",
    "    print('value a is present in tup1')\n",
    "else:\n",
    "    print('not present')"
   ]
  },
  {
   "cell_type": "code",
   "execution_count": 66,
   "id": "85af49c2",
   "metadata": {},
   "outputs": [],
   "source": [
    "#if with list"
   ]
  },
  {
   "cell_type": "code",
   "execution_count": 67,
   "id": "75909d5e",
   "metadata": {},
   "outputs": [],
   "source": [
    "l1=['sparta',3.14,2,'nont']\n",
    "l2=[2,7,6]"
   ]
  },
  {
   "cell_type": "code",
   "execution_count": 71,
   "id": "1ecb2b85",
   "metadata": {},
   "outputs": [
    {
     "name": "stdout",
     "output_type": "stream",
     "text": [
      "noo\n"
     ]
    }
   ],
   "source": [
    "if 9 in (l1+l2):\n",
    "    print('ohh')\n",
    "else:\n",
    "    print('noo')"
   ]
  },
  {
   "cell_type": "code",
   "execution_count": 72,
   "id": "611a50ea",
   "metadata": {},
   "outputs": [],
   "source": [
    "#if with dict"
   ]
  },
  {
   "cell_type": "code",
   "execution_count": 77,
   "id": "5114cd76",
   "metadata": {},
   "outputs": [],
   "source": [
    "d1={'k1':30,'k2':20}"
   ]
  },
  {
   "cell_type": "code",
   "execution_count": 78,
   "id": "d14383c5",
   "metadata": {},
   "outputs": [],
   "source": [
    "if d1['k2']==40:\n",
    "    d1['k1']=d1['k1']+200\n",
    "else:\n",
    "    d1['k2']=d1['k2']+500"
   ]
  },
  {
   "cell_type": "code",
   "execution_count": null,
   "id": "59ae2d06",
   "metadata": {},
   "outputs": [],
   "source": [
    "d1"
   ]
  },
  {
   "cell_type": "code",
   "execution_count": null,
   "id": "0711a72f",
   "metadata": {},
   "outputs": [],
   "source": [
    "#looping statement are used to repeat a task multiple time"
   ]
  },
  {
   "cell_type": "code",
   "execution_count": null,
   "id": "db83ca4a",
   "metadata": {},
   "outputs": [],
   "source": [
    "#while Statement\n",
    "#enter into while loop, test condition,if true do it again other wise leave while loop\n",
    "#while condition:\n",
    " #execute Statement"
   ]
  },
  {
   "cell_type": "code",
   "execution_count": null,
   "id": "55508e41",
   "metadata": {},
   "outputs": [],
   "source": []
  }
 ],
 "metadata": {
  "kernelspec": {
   "display_name": "Python 3",
   "language": "python",
   "name": "python3"
  },
  "language_info": {
   "codemirror_mode": {
    "name": "ipython",
    "version": 3
   },
   "file_extension": ".py",
   "mimetype": "text/x-python",
   "name": "python",
   "nbconvert_exporter": "python",
   "pygments_lexer": "ipython3",
   "version": "3.8.8"
  }
 },
 "nbformat": 4,
 "nbformat_minor": 5
}
